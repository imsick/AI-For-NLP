{
 "cells": [
  {
   "cell_type": "code",
   "execution_count": 6,
   "metadata": {},
   "outputs": [],
   "source": [
    "import networkx as nx"
   ]
  },
  {
   "cell_type": "code",
   "execution_count": 5,
   "metadata": {},
   "outputs": [
    {
     "name": "stdout",
     "output_type": "stream",
     "text": [
      "Requirement already satisfied: networkx in d:\\python\\python36\\lib\\site-packages (2.2)\n",
      "Requirement already satisfied: decorator>=4.3.0 in d:\\python\\python36\\lib\\site-packages (from networkx) (4.4.0)\n",
      "Note: you may need to restart the kernel to use updated packages.\n"
     ]
    }
   ],
   "source": [
    "pip install networkx"
   ]
  },
  {
   "cell_type": "code",
   "execution_count": 13,
   "metadata": {},
   "outputs": [],
   "source": [
    "%matplotlib inline"
   ]
  },
  {
   "cell_type": "code",
   "execution_count": 34,
   "metadata": {},
   "outputs": [
    {
     "name": "stderr",
     "output_type": "stream",
     "text": [
      "d:\\python\\python36\\lib\\site-packages\\networkx\\drawing\\nx_pylab.py:611: MatplotlibDeprecationWarning: isinstance(..., numbers.Number)\n",
      "  if cb.is_numlike(alpha):\n"
     ]
    },
    {
     "data": {
      "image/png": "[encoded data removed]",
      "text/plain": [
       "<Figure size 432x288 with 1 Axes>"
      ]
     },
     "metadata": {},
     "output_type": "display_data"
    }
   ],
   "source": [
    "connection = {\n",
    "    0: [1, 5,3], \n",
    "    1: [0, 2], \n",
    "    2: [1, 3], \n",
    "    3: [0,2, 4], \n",
    "    4: [3 , 7],\n",
    "    5: [0, 6], \n",
    "    6: [5, 7],\n",
    "    7: [6,4]\n",
    "}\n",
    "g = nx.Graph(connection)\n",
    "nx.draw(g)"
   ]
  },
  {
   "cell_type": "code",
   "execution_count": 32,
   "metadata": {},
   "outputs": [],
   "source": [
    "def bfs(start,graph_info):\n",
    "    queue = [[start]]\n",
    "    visit = set()\n",
    "    while queue:\n",
    "        front = queue.pop(0)\n",
    "        node = front[-1]\n",
    "        if node in visit:\n",
    "            continue\n",
    "        visit.add(node)\n",
    "        print(front)\n",
    "        for next_node in graph_info[node]:\n",
    "            queue.append(front + [next_node])             \n",
    "                \n",
    "    "
   ]
  },
  {
   "cell_type": "code",
   "execution_count": 35,
   "metadata": {},
   "outputs": [
    {
     "name": "stdout",
     "output_type": "stream",
     "text": [
      "[1]\n",
      "[1, 0]\n",
      "[1, 2]\n",
      "[1, 0, 5]\n",
      "[1, 0, 3]\n",
      "[1, 0, 5, 6]\n",
      "[1, 0, 3, 4]\n",
      "[1, 0, 5, 6, 7]\n"
     ]
    }
   ],
   "source": [
    "bfs(1,connection)"
   ]
  },
  {
   "cell_type": "code",
   "execution_count": 11,
   "metadata": {},
   "outputs": [],
   "source": [
    "grammar_string = \"\"\"\n",
    "expression = operator op operator\n",
    "operator = num op num\n",
    "non-zero = 1 | 2 | 3 | 4 | 5 | 6 | 7 | 8 | 9 \n",
    "zeros = 0 | zeros zeros\n",
    "num = 0 | non-zero | non-zero zeros num | non-zero num\n",
    "op = + | - | * \n",
    "\"\"\""
   ]
  },
  {
   "cell_type": "code",
   "execution_count": 12,
   "metadata": {},
   "outputs": [
    {
     "name": "stdout",
     "output_type": "stream",
     "text": [
      "{'expression': [['operator', 'op', 'operator']], 'operator': [['num', 'op', 'num']], 'non-zero': [['1'], ['2'], ['3'], ['4'], ['5'], ['6'], ['7'], ['8'], ['9']], 'zeros': [['0'], ['zeros', 'zeros']], 'num': [['0'], ['non-zero'], ['non-zero', 'zeros', 'num'], ['non-zero', 'num']], 'op': [['+'], ['-'], ['*']]}\n"
     ]
    }
   ],
   "source": [
    "grammar={}\n",
    "for line in grammar_string.split('\\n'):\n",
    "    line = line.strip()\n",
    "    if not line:\n",
    "        continue\n",
    "    left,right =line.split('=')\n",
    "    grammar[left.strip()] = [r.split() for r in right.split('|')]\n",
    "\n",
    "print(grammar)"
   ]
  },
  {
   "cell_type": "code",
   "execution_count": 13,
   "metadata": {},
   "outputs": [],
   "source": [
    "import random"
   ]
  },
  {
   "cell_type": "code",
   "execution_count": 16,
   "metadata": {},
   "outputs": [
    {
     "name": "stdout",
     "output_type": "stream",
     "text": [
      "0+2-32*1\n"
     ]
    }
   ],
   "source": [
    "def generator_with_grammar(grammar,target='expression'):\n",
    "    if target not in grammar:\n",
    "        return target\n",
    "    rule = random.choice(grammar[target])\n",
    "    return ''.join(generator_with_grammar(grammar,target=r) for r in rule if r!='null')\n",
    "\n",
    "print(generator_with_grammar(grammar))"
   ]
  },
  {
   "cell_type": "code",
   "execution_count": 1,
   "metadata": {},
   "outputs": [],
   "source": [
    "import re"
   ]
  },
  {
   "cell_type": "code",
   "execution_count": 74,
   "metadata": {},
   "outputs": [],
   "source": [
    "import random\n",
    "def get_response(saying, response_rules):\n",
    "    for key,value in response_rules.items():\n",
    "        match_result = re.match(key,saying)\n",
    "        if match_result:\n",
    "            return random.choice(value).format(match_result.groups())\n"
   ]
  },
  {
   "cell_type": "code",
   "execution_count": 75,
   "metadata": {},
   "outputs": [
    {
     "name": "stdout",
     "output_type": "stream",
     "text": [
      "你觉得英雄联盟和dota2有什么相似性？\n",
      "真的吗？如果不加班就好了？\n",
      "你真的是傻逼吗？\n"
     ]
    }
   ],
   "source": [
    "rules = {\n",
    "    \".*如果(.*)\": [\"真的吗？如果{0[0]}？\"],\n",
    "    \"我是(.*)\": [\"你真的是{0[0]}吗？\", \"我已经知道你是{0[0]}了。\"],\n",
    "    \"(.*)就像(.*)\":[\"你觉得{0[0]}和{0[1]}有什么相似性？\"]\n",
    "}\n",
    "print(get_response(\"英雄联盟就像dota2\",rules))\n",
    "print(get_response(\"如果不加班就好了\",rules))\n",
    "print(get_response(\"我是傻逼\",rules))\n"
   ]
  },
  {
   "cell_type": "code",
   "execution_count": null,
   "metadata": {},
   "outputs": [],
   "source": [
    "1.这样的程序有什么优点？有什么缺点？你有什么可以改进的方法吗？\n",
    "完成基本的对话;必须符合某种模式，且受优先级影响;可以对于优先级方面也使用随机处理。\n",
    "2.什么是数据驱动？数据驱动在这个程序里如何体现？\n",
    "我的理解是根据日常大量数据总结某种逻辑，写成规则。\n",
    "3.数据驱动与 AI 的关系是什么？\n",
    "我的理解是AI和统计息息相关，一些人类难以分析理解的逻辑干脆不去深究，直接从大量的数据表征中按概率推测其中的模式。"
   ]
  }
 ],
 "metadata": {
  "kernelspec": {
   "display_name": "Python 3",
   "language": "python",
   "name": "python3"
  },
  "language_info": {
   "codemirror_mode": {
    "name": "ipython",
    "version": 3
   },
   "file_extension": ".py",
   "mimetype": "text/x-python",
   "name": "python",
   "nbconvert_exporter": "python",
   "pygments_lexer": "ipython3",
   "version": "3.6.2"
  }
 },
 "nbformat": 4,
 "nbformat_minor": 2
}
