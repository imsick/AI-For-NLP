{
 "cells": [
  {
   "cell_type": "code",
   "execution_count": 27,
   "metadata": {},
   "outputs": [],
   "source": [
    "value = [1, 5, 8, 9, 10, 17, 17, 20, 24, 30]\n",
    "weight = range(1,11)\n",
    "count = 10\n",
    "W = 500"
   ]
  },
  {
   "cell_type": "code",
   "execution_count": 48,
   "metadata": {},
   "outputs": [],
   "source": [
    "f = [0]*W\n",
    "g = [[]]*W"
   ]
  },
  {
   "cell_type": "code",
   "execution_count": 49,
   "metadata": {},
   "outputs": [],
   "source": [
    "for i in range(W):\n",
    "    for j in range(count):\n",
    "        if i+weight[j]<W and f[i+weight[j]]<f[i]+value[j]:\n",
    "            f[i+weight[j]]=f[i]+value[j]\n",
    "            g[i+weight[j]]=g[i]+[weight[j]]"
   ]
  },
  {
   "cell_type": "code",
   "execution_count": 50,
   "metadata": {},
   "outputs": [
    {
     "data": {
      "text/plain": [
       "691"
      ]
     },
     "execution_count": 50,
     "metadata": {},
     "output_type": "execute_result"
    }
   ],
   "source": [
    "f[231]"
   ]
  },
  {
   "cell_type": "code",
   "execution_count": 51,
   "metadata": {},
   "outputs": [
    {
     "data": {
      "text/plain": [
       "[3, 6, 10]"
      ]
     },
     "execution_count": 51,
     "metadata": {},
     "output_type": "execute_result"
    }
   ],
   "source": [
    "g[19]"
   ]
  },
  {
   "cell_type": "code",
   "execution_count": 53,
   "metadata": {},
   "outputs": [],
   "source": [
    "s1,s2 = 'ATCGGAA', 'ATCGGGA'"
   ]
  },
  {
   "cell_type": "code",
   "execution_count": 70,
   "metadata": {},
   "outputs": [],
   "source": [
    "def edit_dis(len1,len2):\n",
    "    global s1,s2\n",
    "    if len1== 0 :\n",
    "        return len2\n",
    "    if len2==0:\n",
    "        return len1\n",
    "    if s1[len1-1]==s2[len2-1]:\n",
    "        k=0\n",
    "    else:\n",
    "        k=2\n",
    "    return min(\n",
    "        edit_dis(len1-1,len2)+1,\n",
    "        edit_dis(len1,len2-1)+1,\n",
    "        edit_dis(len1-1,len2-1)+k\n",
    "    )"
   ]
  },
  {
   "cell_type": "code",
   "execution_count": 71,
   "metadata": {},
   "outputs": [
    {
     "data": {
      "text/plain": [
       "2"
      ]
     },
     "execution_count": 71,
     "metadata": {},
     "output_type": "execute_result"
    }
   ],
   "source": [
    "edit_dis(len(s1),len(s2))"
   ]
  },
  {
   "cell_type": "raw",
   "metadata": {},
   "source": [
    "Why do we need dynamic programming? What's the difference of dynamic programming and previous talked search problme?\n",
    "一些问题拥有最优子结构性质，使用动态规划逐个阶段求出最优值直至最终结果；不需要像搜索遍历所有可达状态"
   ]
  },
  {
   "cell_type": "raw",
   "metadata": {},
   "source": [
    "Why do we still need dynamic programming? Why not we train a machine learning to fit a function which could get the right answer based on inputs?\n",
    "动态规划得出精确解；机器学习给出根据统计数据估计出的趋势\n",
    "一些可通过逻辑分析解决的问题没必要耗费大量算力机器学习"
   ]
  },
  {
   "cell_type": "raw",
   "metadata": {},
   "source": [
    "Can you catch up at least 3 problems which could solved by Dynamic Programming?\n",
    "背包问题 最长单调子序列 最大公共子串"
   ]
  },
  {
   "cell_type": "raw",
   "metadata": {},
   "source": [
    "Can you catch up at least 3 problems wich could sloved by Edit Distance?\n",
    "拼写修正 基因序列 论文查重"
   ]
  },
  {
   "cell_type": "raw",
   "metadata": {},
   "source": [
    "Please summarize the three main features of Dynamic Programming, and make a concise explain for each feature.\n",
    "最优子结构性质：大问题往往可以划分为更小的同类问题（可能互相有重叠），并且如果这些划分问题结果最优，那么原始问题结果最优\n",
    "无后效性:计算子结构最优解的决策过程不影响原问题最优结果决策"
   ]
  },
  {
   "cell_type": "raw",
   "metadata": {},
   "source": [
    "What's the disadvantages of Dynamic Programming? (You may need search by yourself in Internet)\n",
    "虽然相比于搜索遍历的状态空间减少了很多，但是需要存储这些中间子结构最优解来求下一阶段最优解，有时依然没有足够的资源"
   ]
  },
  {
   "cell_type": "code",
   "execution_count": null,
   "metadata": {},
   "outputs": [],
   "source": []
  }
 ],
 "metadata": {
  "kernelspec": {
   "display_name": "Python 3",
   "language": "python",
   "name": "python3"
  },
  "language_info": {
   "codemirror_mode": {
    "name": "ipython",
    "version": 3
   },
   "file_extension": ".py",
   "mimetype": "text/x-python",
   "name": "python",
   "nbconvert_exporter": "python",
   "pygments_lexer": "ipython3",
   "version": "3.6.8"
  }
 },
 "nbformat": 4,
 "nbformat_minor": 2
}
