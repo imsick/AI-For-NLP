{
 "cells": [
  {
   "cell_type": "code",
   "execution_count": 33,
   "metadata": {},
   "outputs": [],
   "source": [
    "import random"
   ]
  },
  {
   "cell_type": "code",
   "execution_count": 34,
   "metadata": {},
   "outputs": [],
   "source": [
    "import numpy as np"
   ]
  },
  {
   "cell_type": "code",
   "execution_count": 361,
   "metadata": {},
   "outputs": [
    {
     "data": {
      "text/plain": [
       "(array([ 0,  1,  2,  3,  4,  5,  6,  7,  8,  9, 10, 11, 12, 13, 14, 15, 16,\n",
       "        17, 18, 19, 20, 21, 22, 23, 24, 25, 26, 27, 28, 29, 30, 31, 32, 33,\n",
       "        34, 35, 36, 37, 38, 39, 40, 41, 42, 43, 44, 45, 46, 47, 48, 49, 50,\n",
       "        51, 52, 53, 54, 55, 56, 57, 58, 59, 60, 61, 62, 63, 64, 65, 66, 67,\n",
       "        68, 69, 70, 71, 72, 73, 74, 75, 76, 77, 78, 79, 80, 81, 82, 83, 84,\n",
       "        85, 86, 87, 88, 89, 90, 91, 92, 93, 94, 95, 96, 97, 98, 99]),\n",
       " array([ -4,   7,   1,   4,   9,  13,  14,   6,   4,   6,  15,  10,  19,\n",
       "          9,  13,  17,  17,  26,  19,  24,  18,  17,  16,  26,  26,  26,\n",
       "         31,  19,  23,  25,  26,  27,  35,  26,  41,  31,  42,  44,  36,\n",
       "         47,  46,  42,  42,  37,  40,  53,  54,  47,  45,  39,  55,  48,\n",
       "         50,  46,  62,  47,  52,  57,  59,  65,  55,  51,  53,  67,  58,\n",
       "         59,  74,  57,  75,  60,  64,  64,  62,  76,  70,  66,  81,  74,\n",
       "         87,  74,  85,  89,  81,  82,  92,  90,  79,  79,  79,  84,  84,\n",
       "         95,  87,  85,  93,  97,  87,  91, 107,  98]))"
      ]
     },
     "execution_count": 361,
     "metadata": {},
     "output_type": "execute_result"
    }
   ],
   "source": [
    "x_axis,y_axis"
   ]
  },
  {
   "cell_type": "code",
   "execution_count": 362,
   "metadata": {},
   "outputs": [],
   "source": [
    "x_axis,y_axis = np.arange(0,100),np.arange(0,100)+np.random.randint(-10,10,100)"
   ]
  },
  {
   "cell_type": "code",
   "execution_count": 5,
   "metadata": {},
   "outputs": [],
   "source": [
    "import matplotlib.pyplot as plt"
   ]
  },
  {
   "cell_type": "code",
   "execution_count": 363,
   "metadata": {},
   "outputs": [
    {
     "data": {
      "text/plain": [
       "<matplotlib.collections.PathCollection at 0x2b2c678a0f0>"
      ]
     },
     "execution_count": 363,
     "metadata": {},
     "output_type": "execute_result"
    },
    {
     "data": {
      "image/png": "[encoded data removed]",
      "text/plain": [
       "<Figure size 432x288 with 1 Axes>"
      ]
     },
     "metadata": {
      "needs_background": "light"
     },
     "output_type": "display_data"
    }
   ],
   "source": [
    "\n",
    "plt.scatter(x_axis,y_axis)\n"
   ]
  },
  {
   "cell_type": "code",
   "execution_count": 31,
   "metadata": {},
   "outputs": [],
   "source": [
    "def func(x_axis, k, b): return k * x + b "
   ]
  },
  {
   "cell_type": "code",
   "execution_count": 97,
   "metadata": {},
   "outputs": [],
   "source": [
    "def loss(y_list, yhat_list):\n",
    "#     print(y_list,yhat_list)\n",
    "    return np.mean(np.abs(y_list -yhat_list))"
   ]
  },
  {
   "cell_type": "code",
   "execution_count": 200,
   "metadata": {},
   "outputs": [],
   "source": [
    "def random_choose_method():\n",
    "    k_best = 0\n",
    "    b_best = 0\n",
    "    error_best = 1e10\n",
    "    loop = 100\n",
    "    while loop > 0 :\n",
    "        k = random.random()*2-1\n",
    "        b= random.random()*20\n",
    "        error = loss(y_axis,func(x_axis,k,b))\n",
    "        if error<error_best:\n",
    "            error_best = error\n",
    "            k_best = k\n",
    "            b_best = b\n",
    "        loop -= 1\n",
    "    return (k_best,b_best,error_best)\n",
    "        "
   ]
  },
  {
   "cell_type": "code",
   "execution_count": 214,
   "metadata": {},
   "outputs": [],
   "source": [
    "\n",
    "def supervised_direction_method ():\n",
    "    k_best=random.random()*2-1\n",
    "    b_best=random.random()*100-50\n",
    "    k_step = 0.05\n",
    "    b_step = 2\n",
    "    error_best = 1e10\n",
    "    directions = ((1,-1),(-1,1),(1,1),(-1,-1))\n",
    "    pre_index = -1\n",
    "    loop = 100\n",
    "    direction_index = random.randint(0,len(directions)-1)\n",
    "    while loop >0:\n",
    "        k_direction = directions[direction_index][0]\n",
    "        b_direction = directions[direction_index][1]\n",
    "        k = k_best + k_step*random.random()*k_direction\n",
    "        b=b_best + b_step*random.random()*b_direction\n",
    "        error = loss(y_axis,func(x_axis,k,b))\n",
    "        if error<error_best:\n",
    "            error_best = error\n",
    "            k_best = k\n",
    "            b_best = b\n",
    "        else:\n",
    "            direction_index = random.randint(0,len(directions)-1)\n",
    "        loop-=1\n",
    "    return (k_best,b_best,error_best)"
   ]
  },
  {
   "cell_type": "code",
   "execution_count": 336,
   "metadata": {},
   "outputs": [],
   "source": [
    "def derivate_k(y, yhat, x):\n",
    "    abs_values = [1 if (y_i - yhat_i) > 0 else -1 for y_i, yhat_i in zip(y, yhat)]\n",
    "    return np.mean([a * -x_i for a, x_i in zip(abs_values, x)])\n",
    "\n",
    "def derivate_b(y, yhat):\n",
    "    abs_values = [1 if (y_i - yhat_i) > 0 else -1 for y_i, yhat_i in zip(y, yhat)]\n",
    "    return np.mean([a * -1 for a in abs_values])\n",
    "    \n",
    "def gradient_descent_method():\n",
    "    k_best = 0\n",
    "    b_best = 0\n",
    "    error_best = 1e10\n",
    "    loop = 100\n",
    "    def k_step(y,yhat,x):\n",
    "        step = random.random()*derivate_k(y,yhat,x)\n",
    "#         return step*0.05\n",
    "        if abs(step)>0.05:\n",
    "            if step>0:\n",
    "                return 0.05\n",
    "            else:\n",
    "                return -0.05\n",
    "        else:\n",
    "            return step\n",
    "    def b_step(y,yhat):\n",
    "        step = random.random()*derivate_b(y,yhat)\n",
    "#         return step*2\n",
    "        if abs(step)>2:\n",
    "            if step>0:\n",
    "                return 2\n",
    "            else:\n",
    "                return -2\n",
    "        else:\n",
    "            return step\n",
    "    while loop > 0 :\n",
    "        k_best -= k_step(y_axis,func(x_axis,k_best,b_best),x_axis)\n",
    "        b_best -= b_step(y_axis,func(x_axis,k_best,b_best))\n",
    "        loop -= 1\n",
    "    return (k_best,b_best,loss(y_axis,func(x_axis,k_best, b_best)))"
   ]
  },
  {
   "cell_type": "code",
   "execution_count": 190,
   "metadata": {},
   "outputs": [],
   "source": [
    "def show_result(method):\n",
    "    k,b,er = method()\n",
    "    print( k,b,er)\n",
    "    plt.plot([0,100],[b,100*k+b])\n",
    "    plt.scatter(x_axis,y_axis)\n",
    "    plt.show()"
   ]
  },
  {
   "cell_type": "code",
   "execution_count": 379,
   "metadata": {},
   "outputs": [
    {
     "name": "stdout",
     "output_type": "stream",
     "text": [
      "0.9499185150207753 4.133032451033534 38.02327015548019\n"
     ]
    },
    {
     "data": {
      "image/png": "[encoded data removed]",
      "text/plain": [
       "<Figure size 432x288 with 1 Axes>"
      ]
     },
     "metadata": {
      "needs_background": "light"
     },
     "output_type": "display_data"
    }
   ],
   "source": [
    "show_result(gradient_descent_method)"
   ]
  },
  {
   "cell_type": "code",
   "execution_count": 377,
   "metadata": {},
   "outputs": [
    {
     "name": "stdout",
     "output_type": "stream",
     "text": [
      "0.8975483042391588 1.3572090964396488 48.070337121599714\n"
     ]
    },
    {
     "data": {
      "image/png": "[encoded data removed]",
      "text/plain": [
       "<Figure size 432x288 with 1 Axes>"
      ]
     },
     "metadata": {
      "needs_background": "light"
     },
     "output_type": "display_data"
    }
   ],
   "source": [
    "show_result(random_choose_method)"
   ]
  },
  {
   "cell_type": "code",
   "execution_count": 366,
   "metadata": {
    "scrolled": true
   },
   "outputs": [
    {
     "name": "stdout",
     "output_type": "stream",
     "text": [
      "0.9727610025999582 0.6862724818061507 31.916753301971152\n"
     ]
    },
    {
     "data": {
      "image/png": "[encoded data removed]",
      "text/plain": [
       "<Figure size 432x288 with 1 Axes>"
      ]
     },
     "metadata": {
      "needs_background": "light"
     },
     "output_type": "display_data"
    }
   ],
   "source": [
    "show_result(supervised_direction_method)"
   ]
  },
  {
   "cell_type": "raw",
   "metadata": {},
   "source": [
    "Why we need machine learning methods instead of creating a complicated formula?\n",
    "并非所有现象都能总结归纳成一个公式，只能从统计角度进行机器学习"
   ]
  },
  {
   "cell_type": "raw",
   "metadata": {},
   "source": [
    "Wha't's the disadvantages of the 1st Random Choosen methods in our course?\n",
    "收敛速度慢，没有利用之前的计算结果"
   ]
  },
  {
   "cell_type": "raw",
   "metadata": {},
   "source": [
    "Is the 2nd method supervised direction better than 1st one? What's the disadvantages of the 2nd supversied directin method?\n",
    "是；含多极值函数不适用，高维度情况不适用"
   ]
  },
  {
   "cell_type": "raw",
   "metadata": {},
   "source": [
    "Why do we use Derivative / Gredient to fit a target function?\n",
    "沿当前最大梯度下降"
   ]
  },
  {
   "cell_type": "raw",
   "metadata": {},
   "source": [
    "In the words 'Gredient Descent', what's the Gredient and what's the Descent?\n",
    "Gredient梯度指各维度的变化率的组合，下降指各维度组合的下降趋势"
   ]
  },
  {
   "cell_type": "raw",
   "metadata": {},
   "source": [
    "What's the advantages of the 3rd gradient descent method compared to the previous methods?\n",
    "合理利用之前计算结果，始终沿最大梯度下降"
   ]
  },
  {
   "cell_type": "raw",
   "metadata": {},
   "source": [
    "Using the simple words to describe: What's the machine leanring.\n",
    "从统计数据中采取某种普适策略总结规律"
   ]
  },
  {
   "cell_type": "raw",
   "metadata": {},
   "source": [
    "北京市地铁转乘方案：\n",
    "①查看高德地图、百度地图相关API，发现没有暴露地铁路线api，到相关搜索页面使用chrome开发者工具监测network找到地铁路线相关接口\n",
    "例如：https://ditu.amap.com/service/poiBusLine?poiid=BS10026657&city=110000&pagesize=100&pagenum=1\n",
    "https://ditu.amap.com/service/poiBusLine?poiid=BV10005884&city=110000&pagesize=100&pagenum=1\n",
    "使用正则提取相关json\n",
    "②拿到地铁路线相关数据后，每个地铁站是一个节点，相邻站点即有一条边\n",
    "③套用第一节课BFS可以做最短经过站点的查询功能"
   ]
  }
 ],
 "metadata": {
  "kernelspec": {
   "display_name": "Python 3",
   "language": "python",
   "name": "python3"
  },
  "language_info": {
   "codemirror_mode": {
    "name": "ipython",
    "version": 3
   },
   "file_extension": ".py",
   "mimetype": "text/x-python",
   "name": "python",
   "nbconvert_exporter": "python",
   "pygments_lexer": "ipython3",
   "version": "3.6.8"
  }
 },
 "nbformat": 4,
 "nbformat_minor": 2
}
